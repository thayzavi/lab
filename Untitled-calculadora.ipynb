{
 "cells": [
  {
   "cell_type": "code",
   "execution_count": 3,
   "metadata": {},
   "outputs": [
    {
     "name": "stdout",
     "output_type": "stream",
     "text": [
      "numero 0\n",
      "numero 1\n",
      "numero 2\n",
      "numero 3\n",
      "numero 4\n"
     ]
    }
   ],
   "source": [
    "def funcaoLeitura() :\n",
    "    for i in range(5):\n",
    "        print(\"numero\", i )\n",
    "\n",
    "\n",
    "funcaoLeitura()\n",
    "    "
   ]
  },
  {
   "cell_type": "code",
   "execution_count": 4,
   "metadata": {},
   "outputs": [],
   "source": [
    "#função para somar dois numero\n",
    "\n",
    "def addNum(n1, n2):\n",
    "    print('o primerio numero é:', n1)\n",
    "    print('o segundo numero é:', n2)\n",
    "    print('a soma dos numero e:', n1 + n2)"
   ]
  },
  {
   "cell_type": "code",
   "execution_count": 5,
   "metadata": {},
   "outputs": [
    {
     "name": "stdout",
     "output_type": "stream",
     "text": [
      "o primerio numero é: 2\n",
      "o segundo numero é: 3\n",
      "a soma dos numero e: 5\n"
     ]
    }
   ],
   "source": [
    "addNum(2,3)"
   ]
  },
  {
   "cell_type": "code",
   "execution_count": 6,
   "metadata": {},
   "outputs": [
    {
     "name": "stdout",
     "output_type": "stream",
     "text": [
      "o primerio numero é: 20\n",
      "o segundo numero é: 30\n",
      "a soma dos numero e: 50\n"
     ]
    }
   ],
   "source": [
    "addNum(20, 30 )"
   ]
  },
  {
   "cell_type": "code",
   "execution_count": 12,
   "metadata": {},
   "outputs": [
    {
     "name": "stdout",
     "output_type": "stream",
     "text": [
      "variavel de função multipla 20\n",
      "10\n"
     ]
    }
   ],
   "source": [
    "varGolbal = 10 #essa é uma varial global \n",
    "def multiplicacao(num1, num2):\n",
    "    varGlobal = (num1 * num2) # essa é numa variavel local\n",
    "    print('variavel de função multipla' , varGlobal)\n",
    "\n",
    "multiplicacao(5, 4)\n",
    "print(varGolbal)\n"
   ]
  },
  {
   "cell_type": "code",
   "execution_count": 17,
   "metadata": {},
   "outputs": [
    {
     "name": "stdout",
     "output_type": "stream",
     "text": [
      "variavel de função multipla 20\n"
     ]
    }
   ],
   "source": [
    "varGlobal = 10 #essa é uma varial global \n",
    "def multiplicacao(num1, num2):\n",
    "    varLocal = (num1 * num2) # essa é numa variavel local\n",
    "    print('variavel de função multipla' , varLocal)\n",
    "\n",
    "multiplicacao(5, 4)\n",
    "\n"
   ]
  },
  {
   "cell_type": "code",
   "execution_count": 18,
   "metadata": {},
   "outputs": [],
   "source": [
    "def funcaoLeitura():\n",
    "    for num in [1, 2, 3, 4, 5]:\n",
    "        print(\"Numero\", num )"
   ]
  },
  {
   "cell_type": "code",
   "execution_count": 19,
   "metadata": {},
   "outputs": [],
   "source": [
    "def funcaoLeitura():\n",
    "    for i in range(5):\n",
    "        print('numero', i )"
   ]
  },
  {
   "cell_type": "code",
   "execution_count": 21,
   "metadata": {},
   "outputs": [
    {
     "name": "stdout",
     "output_type": "stream",
     "text": [
      "numero 0\n",
      "numero 1\n",
      "numero 2\n",
      "numero 3\n",
      "numero 4\n"
     ]
    }
   ],
   "source": [
    "funcaoLeitura()"
   ]
  },
  {
   "cell_type": "code",
   "execution_count": 22,
   "metadata": {},
   "outputs": [
    {
     "data": {
      "text/plain": [
       "['Cibele', 'Maria']"
      ]
     },
     "execution_count": 22,
     "metadata": {},
     "output_type": "execute_result"
    }
   ],
   "source": [
    "def separarTexto(texto):\n",
    "    return texto.split() #aplit separar\n",
    "\n",
    "separarTexto('Cibele Maria')"
   ]
  },
  {
   "cell_type": "code",
   "execution_count": 23,
   "metadata": {},
   "outputs": [
    {
     "data": {
      "text/plain": [
       "['Cibele', 'Mria', 'Suely']"
      ]
     },
     "execution_count": 23,
     "metadata": {},
     "output_type": "execute_result"
    }
   ],
   "source": [
    "separarTexto(\"Cibele Mria Suely\")"
   ]
  },
  {
   "cell_type": "code",
   "execution_count": 26,
   "metadata": {},
   "outputs": [],
   "source": [
    "# Quando não sabemos a quantidade de parâmetros basta usar * \n",
    "def variosParameteros(*parametros):\n",
    "    for n, item in enumerate(parametros): # numera para cada objeto \n",
    "        print('Parâmetr', n, item )\n",
    "    return"
   ]
  },
  {
   "cell_type": "code",
   "execution_count": 27,
   "metadata": {},
   "outputs": [
    {
     "name": "stdout",
     "output_type": "stream",
     "text": [
      "Parâmetr 0 Cibely\n",
      "Parâmetr 1 Suely\n",
      "Parâmetr 2 Giggio\n",
      "Parâmetr 3 Madá\n",
      "Parâmetr 4 Luquinhas\n"
     ]
    }
   ],
   "source": [
    "variosParameteros('Cibely', 'Suely', 'Giggio', 'Madá', 'Luquinhas')"
   ]
  },
  {
   "cell_type": "code",
   "execution_count": 3,
   "metadata": {},
   "outputs": [],
   "source": [
    "# calculadora \n",
    "\n",
    "def soma(n1, n2):\n",
    "    return n1 + n2\n",
    "\n",
    "def subtrai(n1, n2):\n",
    "    return n1 - n2\n",
    "\n",
    "def muultiplica(n1, n2):\n",
    "    return n1 * n2\n",
    "\n",
    "def divide(n1, n2):\n",
    "    return n1 / n2"
   ]
  },
  {
   "cell_type": "code",
   "execution_count": 5,
   "metadata": {},
   "outputs": [
    {
     "name": "stdout",
     "output_type": "stream",
     "text": [
      "+=============================+\n",
      "| MENU DE OPERAÇÕES\n",
      "|  1 - SOMAR       \n",
      "|  2 - SUBTRAI     \n",
      "|  3 - MULTIPLICA  \n",
      "|  4 - DIVIDIR     \n",
      "|  0 Sair          \n",
      "+=============================+\n",
      "Oresultado da soma  4\n"
     ]
    }
   ],
   "source": [
    "while True:\n",
    "    print(\"+=============================+\")\n",
    "    print('| MENU DE OPERAÇÕES')\n",
    "    print('|  1 - SOMAR       ')\n",
    "    print('|  2 - SUBTRAI     ')\n",
    "    print('|  3 - MULTIPLICA  ')\n",
    "    print('|  4 - DIVIDIR     ')\n",
    "    print('|  0 Sair          ')\n",
    "    print('+=============================+')\n",
    "\n",
    "    op = int(input())\n",
    "    if op==0:\n",
    "     break\n",
    "\n",
    "    n1 = int(input('Primeiro número: '))\n",
    "    n2 = int(input('segundo numero: '))\n",
    " \n",
    "    if op==1:\n",
    "     print(\"Oresultado da soma \", soma(n1, n2) )\n",
    "     break\n",
    "    \n",
    "    elif op==2:\n",
    "      print('o resultado da subtrai ',  subtrai(n1, n2) )\n",
    "      break\n",
    "    \n",
    "    elif op==3:\n",
    "     print('o resultado multiplica', multiplicacao(n1, n2 ))\n",
    "     break\n",
    "    \n",
    "    \n",
    "    elif  op==4:\n",
    "      print('o resultado dividir', divide(n1, n2))\n",
    "      break\n",
    "\n",
    "\n"
   ]
  }
 ],
 "metadata": {
  "kernelspec": {
   "display_name": "Python 3",
   "language": "python",
   "name": "python3"
  },
  "language_info": {
   "codemirror_mode": {
    "name": "ipython",
    "version": 3
   },
   "file_extension": ".py",
   "mimetype": "text/x-python",
   "name": "python",
   "nbconvert_exporter": "python",
   "pygments_lexer": "ipython3",
   "version": "3.11.9"
  }
 },
 "nbformat": 4,
 "nbformat_minor": 2
}
