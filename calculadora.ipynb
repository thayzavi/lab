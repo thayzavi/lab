{
 "cells": [
  {
   "cell_type": "code",
   "execution_count": 6,
   "metadata": {},
   "outputs": [
    {
     "name": "stdout",
     "output_type": "stream",
     "text": [
      "+=============================+\n",
      "| MENU DE OPERAÇÕES |\n",
      "|  1 - SOMAR        |\n",
      "|  2 - SUBTRAÇÃO    |\n",
      "|  3 - MULTIPLICA   |\n",
      "|  4 - DIVIDIR      |\n",
      "|  5 - EXPONENCIAL  |\n",
      "|  6 - MÓDULLO      |\n",
      "|  0 Sair           |\n",
      "+=============================+\n",
      "o resultado multiplica 200\n"
     ]
    }
   ],
   "source": [
    "# calculadora \n",
    "\n",
    "def soma(n1, n2):\n",
    "    return n1 + n2\n",
    "\n",
    "def subtração (n1, n2):\n",
    "    return n1 - n2\n",
    "\n",
    "def muultiplicação(n1, n2):\n",
    "    return n1 * n2\n",
    "\n",
    "def divide(n1, n2):\n",
    "    return n1 / n2\n",
    "\n",
    "def exponecial(n1, n2):\n",
    "    return n1 ** n2\n",
    "\n",
    "def Modulo(n1,n2):\n",
    "    return n1 % n2\n",
    "\n",
    "while True:\n",
    "    print(\"+=============================+\")\n",
    "    print('| MENU DE OPERAÇÕES |')\n",
    "    print('|  1 - SOMAR        |')\n",
    "    print('|  2 - SUBTRAÇÃO    |')\n",
    "    print('|  3 - MULTIPLICA   |')\n",
    "    print('|  4 - DIVIDIR      |')\n",
    "    print('|  5 - EXPONENCIAL  |')\n",
    "    print('|  6 - MÓDULLO      |')\n",
    "    print('|  0 Sair           |')\n",
    "    print('+=============================+')\n",
    "\n",
    "    op  = int(input())\n",
    "    if op==0:\n",
    "     break\n",
    "\n",
    "    n1 = int(input('Primeiro número: '))\n",
    "    n2 = int(input('segundo numero: '))\n",
    " \n",
    "    if op==1:\n",
    "     print(\"Oresultado da soma \", soma(n1, n2) )\n",
    "     break\n",
    "    \n",
    "    elif op==2:\n",
    "      print('o resultado da subtrai ', subtração(n1, n2) )\n",
    "      break\n",
    "    \n",
    "    elif op==3:\n",
    "     print('o resultado multiplica', muultiplica (n1, n2 ))\n",
    "     break\n",
    "    \n",
    "\n",
    "    elif  op==4:\n",
    "      print('o resultado dividir', divide(n1, n2))\n",
    "      break\n",
    "  \n",
    "    elif op==5:\n",
    "        print('o resultado do exponencial', exponecial (n1, n2))\n",
    "        break\n",
    "    \n",
    "    elif op==6:\n",
    "        print(' o resutado dO modulo', Modulo (n1, n2))"
   ]
  }
 ],
 "metadata": {
  "kernelspec": {
   "display_name": "Python 3",
   "language": "python",
   "name": "python3"
  },
  "language_info": {
   "codemirror_mode": {
    "name": "ipython",
    "version": 3
   },
   "file_extension": ".py",
   "mimetype": "text/x-python",
   "name": "python",
   "nbconvert_exporter": "python",
   "pygments_lexer": "ipython3",
   "version": "3.12.3"
  }
 },
 "nbformat": 4,
 "nbformat_minor": 2
}
