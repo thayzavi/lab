{
  "cells": [
    {
      "cell_type": "code",
      "execution_count": 1,
      "metadata": {},
      "outputs": [],
      "source": [
        "L =[]\n",
        "L = list() #costrutor de listas"
      ]
    },
    {
      "cell_type": "code",
      "execution_count": 2,
      "metadata": {},
      "outputs": [
        {
          "data": {
            "text/plain": [
              "3"
            ]
          },
          "execution_count": 2,
          "metadata": {},
          "output_type": "execute_result"
        }
      ],
      "source": [
        "dias = [3, 1, 10]\n",
        "dias[0]"
      ]
    },
    {
      "cell_type": "code",
      "execution_count": 3,
      "metadata": {},
      "outputs": [
        {
          "data": {
            "text/plain": [
              "1"
            ]
          },
          "execution_count": 3,
          "metadata": {},
          "output_type": "execute_result"
        }
      ],
      "source": [
        "dias[1]"
      ]
    },
    {
      "cell_type": "code",
      "execution_count": 4,
      "metadata": {},
      "outputs": [
        {
          "data": {
            "text/plain": [
              "10"
            ]
          },
          "execution_count": 4,
          "metadata": {},
          "output_type": "execute_result"
        }
      ],
      "source": [
        "dias[2]"
      ]
    },
    {
      "cell_type": "code",
      "execution_count": 5,
      "metadata": {},
      "outputs": [],
      "source": [
        "Z=[3, 8, 9]"
      ]
    },
    {
      "cell_type": "code",
      "execution_count": 6,
      "metadata": {},
      "outputs": [],
      "source": [
        "Z[0]=7"
      ]
    },
    {
      "cell_type": "code",
      "execution_count": 7,
      "metadata": {},
      "outputs": [
        {
          "data": {
            "text/plain": [
              "[7, 8, 9]"
            ]
          },
          "execution_count": 7,
          "metadata": {},
          "output_type": "execute_result"
        }
      ],
      "source": [
        "Z"
      ]
    },
    {
      "cell_type": "code",
      "execution_count": 8,
      "metadata": {},
      "outputs": [
        {
          "name": "stdout",
          "output_type": "stream",
          "text": [
            "True\n",
            "True\n",
            "[5, 7, 5, 8, 9]\n",
            "[5, 7, 5, 8, 9]\n"
          ]
        }
      ],
      "source": [
        "v= [6,7,5,8,9]\n",
        "L= v # Deu o  mesmo nome na memoria \n",
        "print(v==L) #compara conteudo\n",
        "print(v is L) #compara nomes \n",
        "v[0]=5\n",
        "print(v)\n",
        "print(L)"
      ]
    },
    {
      "cell_type": "code",
      "execution_count": 9,
      "metadata": {},
      "outputs": [
        {
          "name": "stdout",
          "output_type": "stream",
          "text": [
            "True\n",
            "False\n",
            "[81, 82, 82]\n",
            "[5, 82, 82]\n"
          ]
        }
      ],
      "source": [
        "a = [81, 82,82]\n",
        "b= a[:]  #cria um clone com fatia // dois pontos sozinho \n",
        "print(a== b)\n",
        "print(a is b)\n",
        "b[0]=5\n",
        "print(a)\n",
        "print(b)"
      ]
    },
    {
      "cell_type": "code",
      "execution_count": 10,
      "metadata": {},
      "outputs": [
        {
          "name": "stdout",
          "output_type": "stream",
          "text": [
            "['b', 'c']\n",
            "['a', 'b', 'c', 'd']\n",
            "['d', 'e', 'f']\n",
            "['a', 'b', 'c', 'd', 'e', 'f']\n"
          ]
        }
      ],
      "source": [
        "uma_lista = ['a', 'b', 'c', 'd', 'e','f']\n",
        "print(uma_lista[1:3])#Dois ponto , intervalo entre os número // até\n",
        "print(uma_lista[:4]) #numeros de traz para frente \n",
        "print(uma_lista[3:]) #numeros de frente para traz \n",
        "print(uma_lista[:])"
      ]
    },
    {
      "cell_type": "code",
      "execution_count": 11,
      "metadata": {},
      "outputs": [
        {
          "name": "stdout",
          "output_type": "stream",
          "text": [
            "3\n"
          ]
        }
      ],
      "source": [
        "a=[1, 2, 3]\n",
        "b=a[:]\n",
        "b[0]=5        #\n",
        "print(a[2])"
      ]
    },
    {
      "cell_type": "code",
      "execution_count": 12,
      "metadata": {},
      "outputs": [
        {
          "name": "stdout",
          "output_type": "stream",
          "text": [
            "[76, 92.3, 'oi', 'True', 4, 'pitomba', 76]\n"
          ]
        }
      ],
      "source": [
        "#A\n",
        "minhalista = [76, 92.3, 'oi', 'True', 4, 76]\n",
        "minhalista[5:]= 'pitomba', 76\n",
        "print(minhalista)\n"
      ]
    },
    {
      "cell_type": "code",
      "execution_count": 13,
      "metadata": {},
      "outputs": [],
      "source": [
        "#B\n"
      ]
    },
    {
      "cell_type": "code",
      "execution_count": 14,
      "metadata": {},
      "outputs": [
        {
          "name": "stdout",
          "output_type": "stream",
          "text": [
            "[76, 92.3, 'oi', 'Cibeli', 'True', 4, 76]\n"
          ]
        }
      ],
      "source": [
        "#C\n",
        "minhalista = [76, 92.3, 'oi', 'True', 4, 76]\n",
        "print(minhalista[:3] + ['Cibeli'] + minhalista[3:])"
      ]
    },
    {
      "cell_type": "code",
      "execution_count": 15,
      "metadata": {},
      "outputs": [
        {
          "name": "stdout",
          "output_type": "stream",
          "text": [
            "[99, 76, 92.3, 'oi', 'True', 4, 76]\n"
          ]
        }
      ],
      "source": [
        "#D\n",
        "minhalista = [76, 92.3, 'oi', 'True', 4, 76]\n",
        "minhalista2 = [99]\n",
        "print(minhalista2+minhalista)"
      ]
    },
    {
      "cell_type": "code",
      "execution_count": 16,
      "metadata": {},
      "outputs": [
        {
          "name": "stdout",
          "output_type": "stream",
          "text": [
            "oíndice procurado e 5\n"
          ]
        }
      ],
      "source": [
        "#E\n",
        "minhalista = [76, 92.3, 'oi', 'True', 4, 76]\n",
        "if ( minhalista[0] == '0i'):\n",
        "    print('O índice procurado e 0 ')\n",
        "elif (minhalista[1] == 'oi'):\n",
        "    print('o índice procurado e 1')\n",
        "elif (minhalista[2] == '0i'):\n",
        "    print(' o índice procurado e 2')\n",
        "elif (minhalista[3] == 'oi'):\n",
        "    print('o índice procurado e 3')\n",
        "elif (minhalista[4] == 'oi'):\n",
        "    print(' O índice procurado e 4')\n",
        "else:\n",
        "    print('oíndice procurado e 5')"
      ]
    },
    {
      "cell_type": "code",
      "execution_count": 17,
      "metadata": {},
      "outputs": [
        {
          "name": "stdout",
          "output_type": "stream",
          "text": [
            "[76, 92.3, 'oi', 4, 76]\n"
          ]
        }
      ],
      "source": [
        "minhalista = [76, 92.3, 'oi', 'True', 4, 76]\n",
        "minhalista2= (minhalista[:3] + minhalista [4:])\n",
        "print(minhalista2)\n"
      ]
    },
    {
      "cell_type": "code",
      "execution_count": 18,
      "metadata": {},
      "outputs": [
        {
          "data": {
            "text/plain": [
              "(10, 20, 30)"
            ]
          },
          "execution_count": 18,
          "metadata": {},
          "output_type": "execute_result"
        }
      ],
      "source": [
        "tupla_numeros = (10, 20, 30)\n",
        "tupla_numeros"
      ]
    },
    {
      "cell_type": "code",
      "execution_count": 19,
      "metadata": {},
      "outputs": [
        {
          "data": {
            "text/plain": [
              "10"
            ]
          },
          "execution_count": 19,
          "metadata": {},
          "output_type": "execute_result"
        }
      ],
      "source": [
        "tupla_elemento=10\n",
        "tupla_elemento"
      ]
    },
    {
      "cell_type": "code",
      "execution_count": 20,
      "metadata": {},
      "outputs": [
        {
          "data": {
            "text/plain": [
              "()"
            ]
          },
          "execution_count": 20,
          "metadata": {},
          "output_type": "execute_result"
        }
      ],
      "source": [
        "tupla_vazia = ()\n",
        "tupla_vazia"
      ]
    },
    {
      "cell_type": "code",
      "execution_count": 21,
      "metadata": {},
      "outputs": [
        {
          "data": {
            "text/plain": [
              "('T', 'e', 's', 't', 'e')"
            ]
          },
          "execution_count": 21,
          "metadata": {},
          "output_type": "execute_result"
        }
      ],
      "source": [
        "nova_tupla=tuple('Teste')\n",
        "nova_tupla"
      ]
    },
    {
      "cell_type": "code",
      "execution_count": 22,
      "metadata": {},
      "outputs": [
        {
          "name": "stdout",
          "output_type": "stream",
          "text": [
            "2\n",
            "0\n",
            "1\n"
          ]
        }
      ],
      "source": [
        "tupla_nomes=('Marlene', 'Zezinho', 'Marlene', 'Cibele', 'Zuely')\n",
        "print(tupla_nomes.count('Marlene'))\n",
        "print(tupla_nomes.count(\"Suely\"))\n",
        "print(tupla_nomes.count(\"Zezinho\"))"
      ]
    },
    {
      "cell_type": "code",
      "execution_count": 23,
      "metadata": {},
      "outputs": [
        {
          "name": "stdout",
          "output_type": "stream",
          "text": [
            "3\n"
          ]
        }
      ],
      "source": [
        "tupla_numeros = (1, 2, 2, 3, 4, 4, 4, 5)\n",
        "print(tupla_numeros.count(4))"
      ]
    }
  ],
  "metadata": {
    "kernelspec": {
      "display_name": "Python 3",
      "language": "python",
      "name": "python3"
    },
    "language_info": {
      "codemirror_mode": {
        "name": "ipython",
        "version": 3
      },
      "file_extension": ".py",
      "mimetype": "text/x-python",
      "name": "python",
      "nbconvert_exporter": "python",
      "pygments_lexer": "ipython3",
      "version": "3.12.3"
    },
    "nteract": {
      "version": "nteract-front-end@1.0.0"
    }
  },
  "nbformat": 4,
  "nbformat_minor": 2
}
